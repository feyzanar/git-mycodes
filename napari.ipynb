{
 "cells": [
  {
   "cell_type": "code",
   "execution_count": null,
   "id": "7375d41c-e3ab-43cc-8721-0973ac3e0242",
   "metadata": {},
   "outputs": [],
   "source": [
    "!pip install jupyterlab-git\n",
    "!pip install nodejs\n",
    "!pip install npm\n",
    "pip install --upgrade --pre jupyterlab-git"
   ]
  },
  {
   "cell_type": "code",
   "execution_count": null,
   "id": "f7990f82-c3d8-4584-a578-368c5d29447f",
   "metadata": {},
   "outputs": [],
   "source": [
    "import napari\n",
    "\n",
    "viewer = napari.Viewer();"
   ]
  },
  {
   "cell_type": "code",
   "execution_count": null,
   "id": "87ec76f3-dbe7-49e3-b399-b2ff541d771f",
   "metadata": {},
   "outputs": [],
   "source": [
    "data_path = Path('.').resolve().parent / 'data'\n",
    "\n",
    "image = imread(data_path / 'grains.tif')\n",
    "\n",
    "print(f'Loaded image in an array of shape: {image.shape} and data type {image.dtype}')\n",
    "print(f'Intensity range: [{image.min()} - {image.max()}]')"
   ]
  },
  {
   "cell_type": "code",
   "execution_count": null,
   "id": "d6265ec2-fcfc-4657-8da8-2fba84c95be9",
   "metadata": {},
   "outputs": [],
   "source": [
    "viewer.add_image(image);"
   ]
  },
  {
   "cell_type": "markdown",
   "id": "2101054a-ce51-4753-9320-b6415d1d9d37",
   "metadata": {},
   "source": [
    "You can check that the image is now opened in the viewer. For navigation, use the following commands:\n",
    "\n",
    "| Navigation           | Command                      |\n",
    "| -------------------- | ---------------------------- |\n",
    "| **Rotate (in 3D view)**           | Left click & drag            |\n",
    "| **Pan (in 3D view)**              | `Shift` + Left click & drag  |\n",
    "| **Zoom**             | Right click & drag or mouse wheel          |\n",
    "| **Scroll slices (in 2D view)**    | `Ctrl` + Mouse wheel (Mac: `Cmd` + Mouse wheel)|\n",
    "| **Toggle 2D/3D view**| `Ctrl` + `Y` (Mac: `Cmd` + `Y`)                 |\n",
    "| **Toggle grid view**| `Ctrl` + `G` (Mac: `Cmd` + `G`)                 |\n",
    "| **Toggle layer visibility**| `V`                 |\n"
   ]
  },
  {
   "cell_type": "code",
   "execution_count": null,
   "id": "a6c5519c-84df-4889-be29-230fb41ba687",
   "metadata": {},
   "outputs": [],
   "source": [
    "test"
   ]
  }
 ],
 "metadata": {
  "kernelspec": {
   "display_name": "Python (napari-env)",
   "language": "python",
   "name": "napari-env"
  },
  "language_info": {
   "codemirror_mode": {
    "name": "ipython",
    "version": 3
   },
   "file_extension": ".py",
   "mimetype": "text/x-python",
   "name": "python",
   "nbconvert_exporter": "python",
   "pygments_lexer": "ipython3",
   "version": "3.9.18"
  }
 },
 "nbformat": 4,
 "nbformat_minor": 5
}

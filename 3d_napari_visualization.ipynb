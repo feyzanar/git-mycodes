{
 "cells": [
  {
   "cell_type": "markdown",
   "metadata": {},
   "source": [
    "### 3D data visualization in Napari"
   ]
  },
  {
   "cell_type": "code",
   "execution_count": 1,
   "metadata": {},
   "outputs": [],
   "source": [
    "# activate napari-env\n",
    "import napari\n",
    "from skimage.io import imread\n",
    "from skimage import data\n",
    "from scipy import ndimage as ndi\n",
    "from napari_animation import Animation\n"
   ]
  },
  {
   "cell_type": "code",
   "execution_count": 2,
   "metadata": {},
   "outputs": [
    {
     "name": "stdout",
     "output_type": "stream",
     "text": [
      "Loaded image in an array of shape: (240, 2, 708, 1294) and data type uint16\n",
      "Intensity range: [90 - 64024]\n"
     ]
    }
   ],
   "source": [
    "image = imread(\"H:/PROJECTS-03/Feyza/240925-NcadGFPxH2Bch-HIGHRES/20240925_151619_20240925_NcadxH2B_05z_timelapse/3d_segmentation_test/pos4-t1-cropped-raw.tif\")\n",
    "print(f'Loaded image in an array of shape: {image.shape} and data type {image.dtype}')\n",
    "print(f'Intensity range: [{image.min()} - {image.max()}]')\n",
    "mask = imread(\"H:/PROJECTS-03/Feyza/240925-NcadGFPxH2Bch-HIGHRES/20240925_151619_20240925_NcadxH2B_05z_timelapse/3d_segmentation_test_cp_masks_cpdenoised_do3d_minsize1000_manualcleanup.tif\")"
   ]
  },
  {
   "cell_type": "code",
   "execution_count": null,
   "metadata": {},
   "outputs": [
    {
     "ename": "",
     "evalue": "",
     "output_type": "error",
     "traceback": [
      "\u001b[1;31mThe Kernel crashed while executing code in the current cell or a previous cell. \n",
      "\u001b[1;31mPlease review the code in the cell(s) to identify a possible cause of the failure. \n",
      "\u001b[1;31mClick <a href='https://aka.ms/vscodeJupyterKernelCrash'>here</a> for more info. \n",
      "\u001b[1;31mView Jupyter <a href='command:jupyter.viewOutput'>log</a> for further details."
     ]
    }
   ],
   "source": [
    "#read ome-tiff file\n",
    "from aicsimageio import AICSImage, imread\n",
    "\n",
    "# read using AICSImageIO\n",
    "aics_img = AICSImage(\"H:/PROJECTS-03/Feyza/240925-NcadGFPxH2Bch-HIGHRES/20240925_151619_20240925_NcadxH2B_05z_timelapse/Position 4_Settings 1/ome-tiff.companion.ome\")\n",
    "# read the image data as numpy\n",
    "img = aics_img.get_image_data()"
   ]
  },
  {
   "cell_type": "code",
   "execution_count": 40,
   "metadata": {},
   "outputs": [
    {
     "ename": "RuntimeError",
     "evalue": "wrapped C/C++ object of type QMenuItemAction has been deleted",
     "output_type": "error",
     "traceback": [
      "\u001b[1;31m---------------------------------------------------------------------------\u001b[0m",
      "\u001b[1;31mRuntimeError\u001b[0m                              Traceback (most recent call last)",
      "Cell \u001b[1;32mIn[40], line 1\u001b[0m\n\u001b[1;32m----> 1\u001b[0m viewer \u001b[38;5;241m=\u001b[39m \u001b[43mnapari\u001b[49m\u001b[38;5;241;43m.\u001b[39;49m\u001b[43mViewer\u001b[49m\u001b[43m(\u001b[49m\u001b[43m)\u001b[49m;\n",
      "File \u001b[1;32mc:\\Users\\fnarslan\\AppData\\Local\\miniconda3\\envs\\napari-env\\lib\\site-packages\\napari\\viewer.py:67\u001b[0m, in \u001b[0;36mViewer.__init__\u001b[1;34m(self, title, ndisplay, order, axis_labels, show, **kwargs)\u001b[0m\n\u001b[0;32m     63\u001b[0m \u001b[38;5;28;01mfrom\u001b[39;00m \u001b[38;5;21;01mnapari\u001b[39;00m\u001b[38;5;21;01m.\u001b[39;00m\u001b[38;5;21;01mwindow\u001b[39;00m \u001b[38;5;28;01mimport\u001b[39;00m Window\n\u001b[0;32m     65\u001b[0m _initialize_plugins()\n\u001b[1;32m---> 67\u001b[0m \u001b[38;5;28mself\u001b[39m\u001b[38;5;241m.\u001b[39m_window \u001b[38;5;241m=\u001b[39m \u001b[43mWindow\u001b[49m\u001b[43m(\u001b[49m\u001b[38;5;28;43mself\u001b[39;49m\u001b[43m,\u001b[49m\u001b[43m \u001b[49m\u001b[43mshow\u001b[49m\u001b[38;5;241;43m=\u001b[39;49m\u001b[43mshow\u001b[49m\u001b[43m)\u001b[49m\n\u001b[0;32m     68\u001b[0m \u001b[38;5;28mself\u001b[39m\u001b[38;5;241m.\u001b[39m_instances\u001b[38;5;241m.\u001b[39madd(\u001b[38;5;28mself\u001b[39m)\n",
      "File \u001b[1;32mc:\\Users\\fnarslan\\AppData\\Local\\miniconda3\\envs\\napari-env\\lib\\site-packages\\napari\\_qt\\qt_main_window.py:711\u001b[0m, in \u001b[0;36mWindow.__init__\u001b[1;34m(self, viewer, show)\u001b[0m\n\u001b[0;32m    708\u001b[0m \u001b[38;5;66;03m# import and index all discovered shimmed npe1 plugins\u001b[39;00m\n\u001b[0;32m    709\u001b[0m index_npe1_adapters()\n\u001b[1;32m--> 711\u001b[0m \u001b[38;5;28;43mself\u001b[39;49m\u001b[38;5;241;43m.\u001b[39;49m\u001b[43m_add_menus\u001b[49m\u001b[43m(\u001b[49m\u001b[43m)\u001b[49m\n\u001b[0;32m    712\u001b[0m \u001b[38;5;66;03m# TODO: the dummy actions should **not** live on the layerlist context\u001b[39;00m\n\u001b[0;32m    713\u001b[0m \u001b[38;5;66;03m# as they are unrelated. However, we do not currently have a suitable\u001b[39;00m\n\u001b[0;32m    714\u001b[0m \u001b[38;5;66;03m# enclosing context where we could store these keys, such that they\u001b[39;00m\n\u001b[0;32m    715\u001b[0m \u001b[38;5;66;03m# **and** the layerlist context key are available when we update\u001b[39;00m\n\u001b[0;32m    716\u001b[0m \u001b[38;5;66;03m# menus. We need a single context to contain all keys required for\u001b[39;00m\n\u001b[0;32m    717\u001b[0m \u001b[38;5;66;03m# menu update, so we add them to the layerlist context for now.\u001b[39;00m\n\u001b[0;32m    718\u001b[0m add_dummy_actions(\u001b[38;5;28mself\u001b[39m\u001b[38;5;241m.\u001b[39m_qt_viewer\u001b[38;5;241m.\u001b[39mviewer\u001b[38;5;241m.\u001b[39mlayers\u001b[38;5;241m.\u001b[39m_ctx)\n",
      "File \u001b[1;32mc:\\Users\\fnarslan\\AppData\\Local\\miniconda3\\envs\\napari-env\\lib\\site-packages\\napari_tools_menu\\__init__.py:205\u001b[0m, in \u001b[0;36m_add_menus\u001b[1;34m(self)\u001b[0m\n\u001b[0;32m    204\u001b[0m \u001b[38;5;28;01mdef\u001b[39;00m \u001b[38;5;21m_add_menus\u001b[39m(\u001b[38;5;28mself\u001b[39m):\n\u001b[1;32m--> 205\u001b[0m     \u001b[38;5;28;43mself\u001b[39;49m\u001b[38;5;241;43m.\u001b[39;49m\u001b[43m_add_menus_bkp\u001b[49m\u001b[43m(\u001b[49m\u001b[43m)\u001b[49m\n\u001b[0;32m    206\u001b[0m     \u001b[38;5;28;01mimport\u001b[39;00m \u001b[38;5;21;01mwarnings\u001b[39;00m\n\u001b[0;32m    207\u001b[0m     \u001b[38;5;28;01mwith\u001b[39;00m warnings\u001b[38;5;241m.\u001b[39mcatch_warnings():\n",
      "File \u001b[1;32mc:\\Users\\fnarslan\\AppData\\Local\\miniconda3\\envs\\napari-env\\lib\\site-packages\\napari\\_qt\\qt_main_window.py:964\u001b[0m, in \u001b[0;36mWindow._add_menus\u001b[1;34m(self)\u001b[0m\n\u001b[0;32m    962\u001b[0m \u001b[38;5;28mself\u001b[39m\u001b[38;5;241m.\u001b[39mmain_menu\u001b[38;5;241m.\u001b[39maddMenu(\u001b[38;5;28mself\u001b[39m\u001b[38;5;241m.\u001b[39mlayers_menu)\n\u001b[0;32m    963\u001b[0m \u001b[38;5;66;03m# plugins menu\u001b[39;00m\n\u001b[1;32m--> 964\u001b[0m \u001b[38;5;28mself\u001b[39m\u001b[38;5;241m.\u001b[39mplugins_menu \u001b[38;5;241m=\u001b[39m \u001b[43mbuild_qmodel_menu\u001b[49m\u001b[43m(\u001b[49m\n\u001b[0;32m    965\u001b[0m \u001b[43m    \u001b[49m\u001b[43mMenuId\u001b[49m\u001b[38;5;241;43m.\u001b[39;49m\u001b[43mMENUBAR_PLUGINS\u001b[49m\u001b[43m,\u001b[49m\n\u001b[0;32m    966\u001b[0m \u001b[43m    \u001b[49m\u001b[43mtitle\u001b[49m\u001b[38;5;241;43m=\u001b[39;49m\u001b[43mtrans\u001b[49m\u001b[38;5;241;43m.\u001b[39;49m\u001b[43m_\u001b[49m\u001b[43m(\u001b[49m\u001b[38;5;124;43m'\u001b[39;49m\u001b[38;5;124;43m&Plugins\u001b[39;49m\u001b[38;5;124;43m'\u001b[39;49m\u001b[43m)\u001b[49m\u001b[43m,\u001b[49m\n\u001b[0;32m    967\u001b[0m \u001b[43m    \u001b[49m\u001b[43mparent\u001b[49m\u001b[38;5;241;43m=\u001b[39;49m\u001b[38;5;28;43mself\u001b[39;49m\u001b[38;5;241;43m.\u001b[39;49m\u001b[43m_qt_window\u001b[49m\u001b[43m,\u001b[49m\n\u001b[0;32m    968\u001b[0m \u001b[43m\u001b[49m\u001b[43m)\u001b[49m\n\u001b[0;32m    969\u001b[0m \u001b[38;5;28mself\u001b[39m\u001b[38;5;241m.\u001b[39m_setup_npe1_plugins_menu()\n\u001b[0;32m    970\u001b[0m \u001b[38;5;28mself\u001b[39m\u001b[38;5;241m.\u001b[39mplugins_menu\u001b[38;5;241m.\u001b[39maboutToShow\u001b[38;5;241m.\u001b[39mconnect(\n\u001b[0;32m    971\u001b[0m     \u001b[38;5;28mself\u001b[39m\u001b[38;5;241m.\u001b[39m_update_plugins_menu_state,\n\u001b[0;32m    972\u001b[0m )\n",
      "File \u001b[1;32mc:\\Users\\fnarslan\\AppData\\Local\\miniconda3\\envs\\napari-env\\lib\\site-packages\\napari\\_qt\\_qapp_model\\_menus.py:32\u001b[0m, in \u001b[0;36mbuild_qmodel_menu\u001b[1;34m(menu_id, title, parent)\u001b[0m\n\u001b[0;32m     14\u001b[0m \u001b[38;5;250m\u001b[39m\u001b[38;5;124;03m\"\"\"Build a QModelMenu from the napari app model\u001b[39;00m\n\u001b[0;32m     15\u001b[0m \n\u001b[0;32m     16\u001b[0m \u001b[38;5;124;03mParameters\u001b[39;00m\n\u001b[1;32m   (...)\u001b[0m\n\u001b[0;32m     28\u001b[0m \u001b[38;5;124;03m    QMenu subclass populated with all items in `menu_id` menu.\u001b[39;00m\n\u001b[0;32m     29\u001b[0m \u001b[38;5;124;03m\"\"\"\u001b[39;00m\n\u001b[0;32m     30\u001b[0m \u001b[38;5;28;01mfrom\u001b[39;00m \u001b[38;5;21;01mnapari\u001b[39;00m\u001b[38;5;21;01m.\u001b[39;00m\u001b[38;5;21;01m_app_model\u001b[39;00m \u001b[38;5;28;01mimport\u001b[39;00m get_app_model\n\u001b[1;32m---> 32\u001b[0m \u001b[38;5;28;01mreturn\u001b[39;00m \u001b[43mQModelMenu\u001b[49m\u001b[43m(\u001b[49m\n\u001b[0;32m     33\u001b[0m \u001b[43m    \u001b[49m\u001b[43mmenu_id\u001b[49m\u001b[38;5;241;43m=\u001b[39;49m\u001b[43mmenu_id\u001b[49m\u001b[43m,\u001b[49m\u001b[43m \u001b[49m\u001b[43mapp\u001b[49m\u001b[38;5;241;43m=\u001b[39;49m\u001b[43mget_app_model\u001b[49m\u001b[43m(\u001b[49m\u001b[43m)\u001b[49m\u001b[43m,\u001b[49m\u001b[43m \u001b[49m\u001b[43mtitle\u001b[49m\u001b[38;5;241;43m=\u001b[39;49m\u001b[43mtitle\u001b[49m\u001b[43m,\u001b[49m\u001b[43m \u001b[49m\u001b[43mparent\u001b[49m\u001b[38;5;241;43m=\u001b[39;49m\u001b[43mparent\u001b[49m\n\u001b[0;32m     34\u001b[0m \u001b[43m\u001b[49m\u001b[43m)\u001b[49m\n",
      "File \u001b[1;32mc:\\Users\\fnarslan\\AppData\\Local\\miniconda3\\envs\\napari-env\\lib\\site-packages\\app_model\\backends\\qt\\_qmenu.py:53\u001b[0m, in \u001b[0;36mQModelMenu.__init__\u001b[1;34m(self, menu_id, app, title, parent)\u001b[0m\n\u001b[0;32m     51\u001b[0m \u001b[38;5;28mself\u001b[39m\u001b[38;5;241m.\u001b[39m_app \u001b[38;5;241m=\u001b[39m Application\u001b[38;5;241m.\u001b[39mget_or_create(app) \u001b[38;5;28;01mif\u001b[39;00m \u001b[38;5;28misinstance\u001b[39m(app, \u001b[38;5;28mstr\u001b[39m) \u001b[38;5;28;01melse\u001b[39;00m app\n\u001b[0;32m     52\u001b[0m \u001b[38;5;28mself\u001b[39m\u001b[38;5;241m.\u001b[39msetObjectName(menu_id)\n\u001b[1;32m---> 53\u001b[0m \u001b[38;5;28;43mself\u001b[39;49m\u001b[38;5;241;43m.\u001b[39;49m\u001b[43mrebuild\u001b[49m\u001b[43m(\u001b[49m\u001b[43m)\u001b[49m\n\u001b[0;32m     54\u001b[0m \u001b[38;5;28mself\u001b[39m\u001b[38;5;241m.\u001b[39m_app\u001b[38;5;241m.\u001b[39mmenus\u001b[38;5;241m.\u001b[39mmenus_changed\u001b[38;5;241m.\u001b[39mconnect(\u001b[38;5;28mself\u001b[39m\u001b[38;5;241m.\u001b[39m_on_registry_changed)\n\u001b[0;32m     55\u001b[0m \u001b[38;5;28mself\u001b[39m\u001b[38;5;241m.\u001b[39mdestroyed\u001b[38;5;241m.\u001b[39mconnect(\u001b[38;5;28mself\u001b[39m\u001b[38;5;241m.\u001b[39m_disconnect)\n",
      "File \u001b[1;32mc:\\Users\\fnarslan\\AppData\\Local\\miniconda3\\envs\\napari-env\\lib\\site-packages\\app_model\\backends\\qt\\_qmenu.py:96\u001b[0m, in \u001b[0;36mQModelMenu.rebuild\u001b[1;34m(self, include_submenus, exclude)\u001b[0m\n\u001b[0;32m     92\u001b[0m \u001b[38;5;28;01mdef\u001b[39;00m \u001b[38;5;21mrebuild\u001b[39m(\n\u001b[0;32m     93\u001b[0m     \u001b[38;5;28mself\u001b[39m, include_submenus: \u001b[38;5;28mbool\u001b[39m \u001b[38;5;241m=\u001b[39m \u001b[38;5;28;01mTrue\u001b[39;00m, exclude: Collection[\u001b[38;5;28mstr\u001b[39m] \u001b[38;5;241m|\u001b[39m \u001b[38;5;28;01mNone\u001b[39;00m \u001b[38;5;241m=\u001b[39m \u001b[38;5;28;01mNone\u001b[39;00m\n\u001b[0;32m     94\u001b[0m ) \u001b[38;5;241m-\u001b[39m\u001b[38;5;241m>\u001b[39m \u001b[38;5;28;01mNone\u001b[39;00m:\n\u001b[0;32m     95\u001b[0m \u001b[38;5;250m    \u001b[39m\u001b[38;5;124;03m\"\"\"Rebuild menu by looking up self._menu_id in menu_registry.\"\"\"\u001b[39;00m\n\u001b[1;32m---> 96\u001b[0m     \u001b[43m_rebuild\u001b[49m\u001b[43m(\u001b[49m\n\u001b[0;32m     97\u001b[0m \u001b[43m        \u001b[49m\u001b[43mmenu\u001b[49m\u001b[38;5;241;43m=\u001b[39;49m\u001b[38;5;28;43mself\u001b[39;49m\u001b[43m,\u001b[49m\n\u001b[0;32m     98\u001b[0m \u001b[43m        \u001b[49m\u001b[43mapp\u001b[49m\u001b[38;5;241;43m=\u001b[39;49m\u001b[38;5;28;43mself\u001b[39;49m\u001b[38;5;241;43m.\u001b[39;49m\u001b[43m_app\u001b[49m\u001b[43m,\u001b[49m\n\u001b[0;32m     99\u001b[0m \u001b[43m        \u001b[49m\u001b[43mmenu_id\u001b[49m\u001b[38;5;241;43m=\u001b[39;49m\u001b[38;5;28;43mself\u001b[39;49m\u001b[38;5;241;43m.\u001b[39;49m\u001b[43m_menu_id\u001b[49m\u001b[43m,\u001b[49m\n\u001b[0;32m    100\u001b[0m \u001b[43m        \u001b[49m\u001b[43minclude_submenus\u001b[49m\u001b[38;5;241;43m=\u001b[39;49m\u001b[43minclude_submenus\u001b[49m\u001b[43m,\u001b[49m\n\u001b[0;32m    101\u001b[0m \u001b[43m        \u001b[49m\u001b[43mexclude\u001b[49m\u001b[38;5;241;43m=\u001b[39;49m\u001b[43mexclude\u001b[49m\u001b[43m,\u001b[49m\n\u001b[0;32m    102\u001b[0m \u001b[43m    \u001b[49m\u001b[43m)\u001b[49m\n",
      "File \u001b[1;32mc:\\Users\\fnarslan\\AppData\\Local\\miniconda3\\envs\\napari-env\\lib\\site-packages\\app_model\\backends\\qt\\_qmenu.py:320\u001b[0m, in \u001b[0;36m_rebuild\u001b[1;34m(menu, app, menu_id, include_submenus, exclude)\u001b[0m\n\u001b[0;32m    318\u001b[0m \u001b[38;5;28;01mif\u001b[39;00m \u001b[38;5;28misinstance\u001b[39m(item, SubmenuItem):\n\u001b[0;32m    319\u001b[0m     \u001b[38;5;28;01mif\u001b[39;00m include_submenus:\n\u001b[1;32m--> 320\u001b[0m         submenu \u001b[38;5;241m=\u001b[39m \u001b[43mQModelSubmenu\u001b[49m\u001b[43m(\u001b[49m\u001b[43mitem\u001b[49m\u001b[43m,\u001b[49m\u001b[43m \u001b[49m\u001b[43mapp\u001b[49m\u001b[43m,\u001b[49m\u001b[43m \u001b[49m\u001b[43mparent\u001b[49m\u001b[38;5;241;43m=\u001b[39;49m\u001b[43mmenu\u001b[49m\u001b[43m)\u001b[49m\n\u001b[0;32m    321\u001b[0m         cast(\u001b[38;5;124m\"\u001b[39m\u001b[38;5;124mQMenu\u001b[39m\u001b[38;5;124m\"\u001b[39m, menu)\u001b[38;5;241m.\u001b[39maddMenu(submenu)\n\u001b[0;32m    322\u001b[0m \u001b[38;5;28;01melif\u001b[39;00m item\u001b[38;5;241m.\u001b[39mcommand\u001b[38;5;241m.\u001b[39mid \u001b[38;5;129;01mnot\u001b[39;00m \u001b[38;5;129;01min\u001b[39;00m _exclude:\n",
      "File \u001b[1;32mc:\\Users\\fnarslan\\AppData\\Local\\miniconda3\\envs\\napari-env\\lib\\site-packages\\app_model\\backends\\qt\\_qmenu.py:141\u001b[0m, in \u001b[0;36mQModelSubmenu.__init__\u001b[1;34m(self, submenu, app, parent)\u001b[0m\n\u001b[0;32m    139\u001b[0m \u001b[38;5;28;01massert\u001b[39;00m \u001b[38;5;28misinstance\u001b[39m(submenu, SubmenuItem), \u001b[38;5;124mf\u001b[39m\u001b[38;5;124m\"\u001b[39m\u001b[38;5;124mExpected str, got \u001b[39m\u001b[38;5;132;01m{\u001b[39;00m\u001b[38;5;28mtype\u001b[39m(submenu)\u001b[38;5;132;01m!r}\u001b[39;00m\u001b[38;5;124m\"\u001b[39m\n\u001b[0;32m    140\u001b[0m \u001b[38;5;28mself\u001b[39m\u001b[38;5;241m.\u001b[39m_submenu \u001b[38;5;241m=\u001b[39m submenu\n\u001b[1;32m--> 141\u001b[0m \u001b[38;5;28;43msuper\u001b[39;49m\u001b[43m(\u001b[49m\u001b[43m)\u001b[49m\u001b[38;5;241;43m.\u001b[39;49m\u001b[38;5;21;43m__init__\u001b[39;49m\u001b[43m(\u001b[49m\n\u001b[0;32m    142\u001b[0m \u001b[43m    \u001b[49m\u001b[43mmenu_id\u001b[49m\u001b[38;5;241;43m=\u001b[39;49m\u001b[43msubmenu\u001b[49m\u001b[38;5;241;43m.\u001b[39;49m\u001b[43msubmenu\u001b[49m\u001b[43m,\u001b[49m\u001b[43m \u001b[49m\u001b[43mapp\u001b[49m\u001b[38;5;241;43m=\u001b[39;49m\u001b[43mapp\u001b[49m\u001b[43m,\u001b[49m\u001b[43m \u001b[49m\u001b[43mtitle\u001b[49m\u001b[38;5;241;43m=\u001b[39;49m\u001b[43msubmenu\u001b[49m\u001b[38;5;241;43m.\u001b[39;49m\u001b[43mtitle\u001b[49m\u001b[43m,\u001b[49m\u001b[43m \u001b[49m\u001b[43mparent\u001b[49m\u001b[38;5;241;43m=\u001b[39;49m\u001b[43mparent\u001b[49m\n\u001b[0;32m    143\u001b[0m \u001b[43m\u001b[49m\u001b[43m)\u001b[49m\n\u001b[0;32m    144\u001b[0m \u001b[38;5;28;01mif\u001b[39;00m submenu\u001b[38;5;241m.\u001b[39micon:\n\u001b[0;32m    145\u001b[0m     \u001b[38;5;28mself\u001b[39m\u001b[38;5;241m.\u001b[39msetIcon(to_qicon(submenu\u001b[38;5;241m.\u001b[39micon))\n",
      "File \u001b[1;32mc:\\Users\\fnarslan\\AppData\\Local\\miniconda3\\envs\\napari-env\\lib\\site-packages\\app_model\\backends\\qt\\_qmenu.py:53\u001b[0m, in \u001b[0;36mQModelMenu.__init__\u001b[1;34m(self, menu_id, app, title, parent)\u001b[0m\n\u001b[0;32m     51\u001b[0m \u001b[38;5;28mself\u001b[39m\u001b[38;5;241m.\u001b[39m_app \u001b[38;5;241m=\u001b[39m Application\u001b[38;5;241m.\u001b[39mget_or_create(app) \u001b[38;5;28;01mif\u001b[39;00m \u001b[38;5;28misinstance\u001b[39m(app, \u001b[38;5;28mstr\u001b[39m) \u001b[38;5;28;01melse\u001b[39;00m app\n\u001b[0;32m     52\u001b[0m \u001b[38;5;28mself\u001b[39m\u001b[38;5;241m.\u001b[39msetObjectName(menu_id)\n\u001b[1;32m---> 53\u001b[0m \u001b[38;5;28;43mself\u001b[39;49m\u001b[38;5;241;43m.\u001b[39;49m\u001b[43mrebuild\u001b[49m\u001b[43m(\u001b[49m\u001b[43m)\u001b[49m\n\u001b[0;32m     54\u001b[0m \u001b[38;5;28mself\u001b[39m\u001b[38;5;241m.\u001b[39m_app\u001b[38;5;241m.\u001b[39mmenus\u001b[38;5;241m.\u001b[39mmenus_changed\u001b[38;5;241m.\u001b[39mconnect(\u001b[38;5;28mself\u001b[39m\u001b[38;5;241m.\u001b[39m_on_registry_changed)\n\u001b[0;32m     55\u001b[0m \u001b[38;5;28mself\u001b[39m\u001b[38;5;241m.\u001b[39mdestroyed\u001b[38;5;241m.\u001b[39mconnect(\u001b[38;5;28mself\u001b[39m\u001b[38;5;241m.\u001b[39m_disconnect)\n",
      "File \u001b[1;32mc:\\Users\\fnarslan\\AppData\\Local\\miniconda3\\envs\\napari-env\\lib\\site-packages\\app_model\\backends\\qt\\_qmenu.py:96\u001b[0m, in \u001b[0;36mQModelMenu.rebuild\u001b[1;34m(self, include_submenus, exclude)\u001b[0m\n\u001b[0;32m     92\u001b[0m \u001b[38;5;28;01mdef\u001b[39;00m \u001b[38;5;21mrebuild\u001b[39m(\n\u001b[0;32m     93\u001b[0m     \u001b[38;5;28mself\u001b[39m, include_submenus: \u001b[38;5;28mbool\u001b[39m \u001b[38;5;241m=\u001b[39m \u001b[38;5;28;01mTrue\u001b[39;00m, exclude: Collection[\u001b[38;5;28mstr\u001b[39m] \u001b[38;5;241m|\u001b[39m \u001b[38;5;28;01mNone\u001b[39;00m \u001b[38;5;241m=\u001b[39m \u001b[38;5;28;01mNone\u001b[39;00m\n\u001b[0;32m     94\u001b[0m ) \u001b[38;5;241m-\u001b[39m\u001b[38;5;241m>\u001b[39m \u001b[38;5;28;01mNone\u001b[39;00m:\n\u001b[0;32m     95\u001b[0m \u001b[38;5;250m    \u001b[39m\u001b[38;5;124;03m\"\"\"Rebuild menu by looking up self._menu_id in menu_registry.\"\"\"\u001b[39;00m\n\u001b[1;32m---> 96\u001b[0m     \u001b[43m_rebuild\u001b[49m\u001b[43m(\u001b[49m\n\u001b[0;32m     97\u001b[0m \u001b[43m        \u001b[49m\u001b[43mmenu\u001b[49m\u001b[38;5;241;43m=\u001b[39;49m\u001b[38;5;28;43mself\u001b[39;49m\u001b[43m,\u001b[49m\n\u001b[0;32m     98\u001b[0m \u001b[43m        \u001b[49m\u001b[43mapp\u001b[49m\u001b[38;5;241;43m=\u001b[39;49m\u001b[38;5;28;43mself\u001b[39;49m\u001b[38;5;241;43m.\u001b[39;49m\u001b[43m_app\u001b[49m\u001b[43m,\u001b[49m\n\u001b[0;32m     99\u001b[0m \u001b[43m        \u001b[49m\u001b[43mmenu_id\u001b[49m\u001b[38;5;241;43m=\u001b[39;49m\u001b[38;5;28;43mself\u001b[39;49m\u001b[38;5;241;43m.\u001b[39;49m\u001b[43m_menu_id\u001b[49m\u001b[43m,\u001b[49m\n\u001b[0;32m    100\u001b[0m \u001b[43m        \u001b[49m\u001b[43minclude_submenus\u001b[49m\u001b[38;5;241;43m=\u001b[39;49m\u001b[43minclude_submenus\u001b[49m\u001b[43m,\u001b[49m\n\u001b[0;32m    101\u001b[0m \u001b[43m        \u001b[49m\u001b[43mexclude\u001b[49m\u001b[38;5;241;43m=\u001b[39;49m\u001b[43mexclude\u001b[49m\u001b[43m,\u001b[49m\n\u001b[0;32m    102\u001b[0m \u001b[43m    \u001b[49m\u001b[43m)\u001b[49m\n",
      "File \u001b[1;32mc:\\Users\\fnarslan\\AppData\\Local\\miniconda3\\envs\\napari-env\\lib\\site-packages\\app_model\\backends\\qt\\_qmenu.py:323\u001b[0m, in \u001b[0;36m_rebuild\u001b[1;34m(menu, app, menu_id, include_submenus, exclude)\u001b[0m\n\u001b[0;32m    321\u001b[0m             cast(\u001b[38;5;124m\"\u001b[39m\u001b[38;5;124mQMenu\u001b[39m\u001b[38;5;124m\"\u001b[39m, menu)\u001b[38;5;241m.\u001b[39maddMenu(submenu)\n\u001b[0;32m    322\u001b[0m     \u001b[38;5;28;01melif\u001b[39;00m item\u001b[38;5;241m.\u001b[39mcommand\u001b[38;5;241m.\u001b[39mid \u001b[38;5;129;01mnot\u001b[39;00m \u001b[38;5;129;01min\u001b[39;00m _exclude:\n\u001b[1;32m--> 323\u001b[0m         action \u001b[38;5;241m=\u001b[39m \u001b[43mQMenuItemAction\u001b[49m\u001b[38;5;241;43m.\u001b[39;49m\u001b[43mcreate\u001b[49m\u001b[43m(\u001b[49m\u001b[43mitem\u001b[49m\u001b[43m,\u001b[49m\u001b[43m \u001b[49m\u001b[43mapp\u001b[49m\u001b[38;5;241;43m=\u001b[39;49m\u001b[43mapp\u001b[49m\u001b[43m,\u001b[49m\u001b[43m \u001b[49m\u001b[43mparent\u001b[49m\u001b[38;5;241;43m=\u001b[39;49m\u001b[43mmenu\u001b[49m\u001b[43m)\u001b[49m\n\u001b[0;32m    324\u001b[0m         menu\u001b[38;5;241m.\u001b[39maddAction(action)\n\u001b[0;32m    325\u001b[0m \u001b[38;5;28;01mif\u001b[39;00m n \u001b[38;5;241m<\u001b[39m n_groups \u001b[38;5;241m-\u001b[39m \u001b[38;5;241m1\u001b[39m:\n",
      "File \u001b[1;32mc:\\Users\\fnarslan\\AppData\\Local\\miniconda3\\envs\\napari-env\\lib\\site-packages\\app_model\\backends\\qt\\_qaction.py:181\u001b[0m, in \u001b[0;36mQMenuItemAction.create\u001b[1;34m(cls, menu_item, app, parent)\u001b[0m\n\u001b[0;32m    179\u001b[0m \u001b[38;5;28;01mif\u001b[39;00m cache_key \u001b[38;5;129;01min\u001b[39;00m \u001b[38;5;28mcls\u001b[39m\u001b[38;5;241m.\u001b[39m_cache:\n\u001b[0;32m    180\u001b[0m     res \u001b[38;5;241m=\u001b[39m \u001b[38;5;28mcls\u001b[39m\u001b[38;5;241m.\u001b[39m_cache[cache_key]\n\u001b[1;32m--> 181\u001b[0m     \u001b[43mres\u001b[49m\u001b[38;5;241;43m.\u001b[39;49m\u001b[43msetParent\u001b[49m\u001b[43m(\u001b[49m\u001b[43mparent\u001b[49m\u001b[43m)\u001b[49m\n\u001b[0;32m    182\u001b[0m     \u001b[38;5;28;01mreturn\u001b[39;00m res\n\u001b[0;32m    184\u001b[0m \u001b[38;5;28mcls\u001b[39m\u001b[38;5;241m.\u001b[39m_cache[cache_key] \u001b[38;5;241m=\u001b[39m obj \u001b[38;5;241m=\u001b[39m \u001b[38;5;28mcls\u001b[39m(menu_item, app, parent)\n",
      "\u001b[1;31mRuntimeError\u001b[0m: wrapped C/C++ object of type QMenuItemAction has been deleted"
     ]
    }
   ],
   "source": [
    "viewer = napari.Viewer();"
   ]
  },
  {
   "cell_type": "code",
   "execution_count": 38,
   "metadata": {},
   "outputs": [],
   "source": [
    "viewer.add_image(image, channel_axis=1,\n",
    "                 name=[\"membrane\", \"nuclei\"],\n",
    "                colormap=[\"green\", \"magenta\"]);\n",
    "\n",
    "\n",
    "#viewer.add_labels(mask);"
   ]
  },
  {
   "cell_type": "code",
   "execution_count": 14,
   "metadata": {},
   "outputs": [],
   "source": [
    "#viewer.layers['image'].contrast_limits = (2_000, 60_000)\n",
    "#viewer.layers['image'].colormap = 'magma'\n",
    "#viewer.layers['image'].scale = [0.5, 0.347,0.347]\n",
    "\n"
   ]
  },
  {
   "cell_type": "markdown",
   "metadata": {},
   "source": [
    "### Animation"
   ]
  },
  {
   "cell_type": "code",
   "execution_count": 42,
   "metadata": {},
   "outputs": [
    {
     "name": "stdout",
     "output_type": "stream",
     "text": [
      "Rendering frames...\n"
     ]
    },
    {
     "name": "stderr",
     "output_type": "stream",
     "text": [
      "  0%|          | 0/91 [00:00<?, ?it/s]IMAGEIO FFMPEG_WRITER WARNING: input image is not divisible by macro_block_size=16, resizing from (1046, 747) to (1056, 752) to ensure video compatibility with most codecs and players. To prevent resizing, make your input image divisible by the macro_block_size or set the macro_block_size to 1 (risking incompatibility).\n",
      "100%|██████████| 91/91 [00:09<00:00, 10.07it/s]\n"
     ]
    }
   ],
   "source": [
    "\n",
    "# Perform a 3D scan by iterating through each 2D frame\n",
    "animation = Animation(viewer)\n",
    "viewer.update_console({\"animation\": animation})\n",
    "\n",
    "viewer.dims.ndisplay = 2\n",
    "viewer.camera.angles = (0.0, 0.0, 90.0)\n",
    "\n",
    "for frame in range(10, int(240), 5):  # Step by 10 to capture every 10th frame\n",
    "    viewer.dims.set_point(0, frame)  # Show the 2D frame at the current index\n",
    "    animation.capture_keyframe(steps=2)  # Capture each frame as a keyframe\n",
    "\n",
    "animation.animate(\"Ncad-zstack.mp4\", canvas_only=True)"
   ]
  },
  {
   "cell_type": "code",
   "execution_count": 43,
   "metadata": {},
   "outputs": [
    {
     "name": "stdout",
     "output_type": "stream",
     "text": [
      "Rendering frames...\n"
     ]
    },
    {
     "name": "stderr",
     "output_type": "stream",
     "text": [
      "  0%|          | 0/136 [00:00<?, ?it/s]IMAGEIO FFMPEG_WRITER WARNING: input image is not divisible by macro_block_size=16, resizing from (1046, 747) to (1056, 752) to ensure video compatibility with most codecs and players. To prevent resizing, make your input image divisible by the macro_block_size or set the macro_block_size to 1 (risking incompatibility).\n",
      "100%|██████████| 136/136 [00:09<00:00, 13.94it/s]\n"
     ]
    }
   ],
   "source": [
    "# Tilt the image with the mask in 3D\n",
    "animation = Animation(viewer)\n",
    "viewer.update_console({\"animation\": animation})\n",
    "\n",
    "\n",
    "viewer.dims.ndisplay = 3\n",
    "viewer.camera.angles = (0.0, 0.0, 90.0)\n",
    "animation.capture_keyframe()\n",
    "viewer.add_labels(mask);\n",
    "viewer.camera.angles = (-7.0, 15.7, 62.4)\n",
    "animation.capture_keyframe(steps=60)\n",
    "viewer.camera.angles = (2.0, -24.4, -36.7)\n",
    "animation.capture_keyframe(steps=60)\n",
    "viewer.reset_view()\n",
    "viewer.camera.angles = (0.0, 0.0, 90.0)\n",
    "animation.capture_keyframe()\n",
    "animation.animate(\"3D-mask.mp4\", canvas_only=True)"
   ]
  },
  {
   "cell_type": "code",
   "execution_count": null,
   "metadata": {},
   "outputs": [],
   "source": []
  }
 ],
 "metadata": {
  "kernelspec": {
   "display_name": "Python 3",
   "language": "python",
   "name": "python3"
  },
  "language_info": {
   "codemirror_mode": {
    "name": "ipython",
    "version": 3
   },
   "file_extension": ".py",
   "mimetype": "text/x-python",
   "name": "python",
   "nbconvert_exporter": "python",
   "pygments_lexer": "ipython3",
   "version": "3.10.15"
  }
 },
 "nbformat": 4,
 "nbformat_minor": 2
}

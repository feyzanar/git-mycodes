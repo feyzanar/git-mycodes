{
 "cells": [
  {
   "cell_type": "markdown",
   "metadata": {},
   "source": [
    "### 3D data visualization in Napari"
   ]
  },
  {
   "cell_type": "code",
   "execution_count": 1,
   "metadata": {},
   "outputs": [],
   "source": [
    "# activate napari-env\n",
    "import napari\n",
    "from skimage.io import imread\n",
    "from skimage import data\n",
    "from scipy import ndimage as ndi\n",
    "from napari_animation import Animation\n"
   ]
  },
  {
   "cell_type": "code",
   "execution_count": 2,
   "metadata": {},
   "outputs": [
    {
     "name": "stdout",
     "output_type": "stream",
     "text": [
      "Loaded image in an array of shape: (240, 2, 708, 1294) and data type uint16\n",
      "Intensity range: [90 - 64024]\n"
     ]
    }
   ],
   "source": [
    "image = imread(\"H:/PROJECTS-03/Feyza/240925-NcadGFPxH2Bch-HIGHRES/20240925_151619_20240925_NcadxH2B_05z_timelapse/3d_segmentation_test/pos4-t1-cropped-raw.tif\")\n",
    "print(f'Loaded image in an array of shape: {image.shape} and data type {image.dtype}')\n",
    "print(f'Intensity range: [{image.min()} - {image.max()}]')\n",
    "mask = imread(\"H:/PROJECTS-03/Feyza/240925-NcadGFPxH2Bch-HIGHRES/20240925_151619_20240925_NcadxH2B_05z_timelapse/3d_segmentation_test_cp_masks_cpdenoised_do3d_minsize1000_manualcleanup.tif\")"
   ]
  },
  {
   "cell_type": "code",
   "execution_count": null,
   "metadata": {},
   "outputs": [
    {
     "ename": "",
     "evalue": "",
     "output_type": "error",
     "traceback": [
      "\u001b[1;31mThe Kernel crashed while executing code in the current cell or a previous cell. \n",
      "\u001b[1;31mPlease review the code in the cell(s) to identify a possible cause of the failure. \n",
      "\u001b[1;31mClick <a href='https://aka.ms/vscodeJupyterKernelCrash'>here</a> for more info. \n",
      "\u001b[1;31mView Jupyter <a href='command:jupyter.viewOutput'>log</a> for further details."
     ]
    }
   ],
   "source": [
    "#read ome-tiff file\n",
    "from aicsimageio import AICSImage, imread\n",
    "\n",
    "# read using AICSImageIO\n",
    "aics_img = AICSImage(\"H:/PROJECTS-03/Feyza/240925-NcadGFPxH2Bch-HIGHRES/20240925_151619_20240925_NcadxH2B_05z_timelapse/Position 4_Settings 1/ome-tiff.companion.ome\")\n",
    "# read the image data as numpy\n",
    "img = aics_img.get_image_data()"
   ]
  },
  {
   "cell_type": "code",
   "execution_count": 2,
   "metadata": {},
   "outputs": [
    {
     "name": "stdout",
     "output_type": "stream",
     "text": [
      "['gaussian_blur', 'mean_box', 'mean_filter', 'mean_sphere', 'median', 'median_box', 'median_sphere', 'bottom_hat', 'bottom_hat_box', 'bottom_hat_sphere', 'divide_by_gaussian_background', 'subtract_gaussian_background', 'top_hat', 'top_hat_box', 'top_hat_sphere', 'absolute', 'add_image_and_scalar', 'closing', 'closing_box', 'closing_sphere', 'cubic_root', 'divide_scalar_by_image', 'exponential', 'gamma_correction', 'gradient_x', 'gradient_y', 'gradient_z', 'laplace_box', 'large_hessian_eigenvalue', 'logarithm', 'maximum_box', 'maximum_filter', 'maximum_image_and_scalar', 'maximum_sphere', 'minimum_box', 'minimum_filter', 'minimum_image_and_scalar', 'minimum_sphere', 'multiply_image_and_scalar', 'opening', 'opening_box', 'opening_sphere', 'power', 'reciprocal', 'small_hessian_eigenvalue', 'sobel', 'square_root', 'standard_deviation', 'standard_deviation_box', 'standard_deviation_sphere', 'subtract_image_from_scalar', 'variance_box', 'variance_filter', 'variance_sphere', 'absolute_difference', 'add_images', 'add_images_weighted', 'clip', 'concatenate_along_x', 'concatenate_along_y', 'concatenate_along_z', 'convolve', 'divide_images', 'equal', 'greater', 'greater_or_equal', 'local_cross_correlation', 'maximum_images', 'mean_squared_error', 'minimum_images', 'multiply_images', 'not_equal', 'paste', 'power_images', 'smaller', 'smaller_or_equal', 'squared_difference', 'subtract_images', 'range', 'reduce_stack', 'rigid_transform', 'rotate', 'scale', 'sub_stack', 'translate', 'maximum_z_projection', 'mean_z_projection', 'minimum_z_projection', 'std_z_projection', 'sum_z_projection', 'x_position_of_maximum_x_projection', 'x_position_of_minimum_x_projection', 'y_position_of_maximum_y_projection', 'y_position_of_minimum_y_projection', 'z_position_of_maximum_z_projection', 'z_position_of_minimum_z_projection', 'detect_label_edges', 'detect_maxima', 'detect_maxima_box', 'detect_minima', 'detect_minima_box', 'equal_constant', 'greater_constant', 'greater_or_equal_constant', 'not_equal_constant', 'smaller_constant', 'smaller_or_equal_constant', 'threshold_otsu', 'connected_component_labeling', 'connected_components_labeling', 'eroded_otsu_labeling', 'gauss_otsu_labeling', 'label', 'label_spots', 'voronoi_labeling', 'voronoi_otsu_labeling', 'binary_edge_detection', 'binary_not', 'closing_labels', 'combine_labels', 'detect_label_edges', 'dilate_labels', 'erode_connected_labels', 'erode_labels', 'exclude_labels_on_edges', 'exclude_labels_outside_size_range', 'exclude_large_labels', 'exclude_small_labels', 'extend_labeling_via_voronoi', 'extension_ratio_map', 'filter_label_by_size', 'mode', 'mode_box', 'mode_sphere', 'opening_labels', 'reduce_labels_to_centroids', 'reduce_labels_to_label_edges', 'relabel_sequential', 'remove_labels_on_edges', 'remove_large_labels', 'remove_small_labels', 'smooth_connected_labels', 'smooth_labels', 'binary_and', 'binary_or', 'binary_subtract', 'binary_xor', 'combine_labels', 'label_pixel_count_map', 'pixel_count_map', 'mean_intensity_map', 'binary_and', 'binary_or', 'binary_subtract', 'binary_xor', 'gaussian_blur', 'mean_box', 'mean_sphere', 'median_box', 'median_sphere', 'bottom_hat_box', 'bottom_hat_sphere', 'divide_by_gaussian_background', 'subtract_gaussian_background', 'top_hat_box', 'top_hat_sphere', 'absolute', 'add_image_and_scalar', 'cbrt', 'closing_box', 'closing_sphere', 'cubic_root', 'divide_scalar_by_image', 'exp', 'exponential', 'fabs', 'fill_zeros_inpainting', 'gamma_correction', 'gradient_x', 'gradient_y', 'gradient_z', 'laplace_box', 'large_hessian_eigenvalue', 'log', 'logarithm', 'maximum_box', 'maximum_image_and_scalar', 'maximum_sphere', 'minimum_box', 'minimum_image_and_scalar', 'minimum_sphere', 'multiply_image_and_scalar', 'opening_box', 'opening_sphere', 'power', 'reciprocal', 'small_hessian_eigenvalue', 'sobel', 'sqrt', 'square_root', 'standard_deviation_box', 'standard_deviation_sphere', 'subtract_image_from_scalar', 'variance_box', 'variance_sphere', 'absolute_difference', 'add_images', 'add_images_weighted', 'clip', 'combine_horizontally', 'combine_vertically', 'concatenate_stacks', 'convolve', 'divide_images', 'equal', 'exclude_labels_with_average_values_out_of_range', 'exclude_labels_with_average_values_within_range', 'exclude_labels_with_map_values_equal_to_constant', 'exclude_labels_with_map_values_not_equal_to_constant', 'exclude_labels_with_map_values_out_of_range', 'exclude_labels_with_map_values_within_range', 'greater', 'greater_or_equal', 'local_cross_correlation', 'maximum', 'maximum_images', 'mean_squared_error', 'merge_annotated_touching_labels', 'minimum', 'minimum_images', 'multiply_images', 'not_equal', 'paste', 'power_images', 'smaller', 'smaller_or_equal', 'squared_difference', 'stitch_horizontally_linear_blending', 'stitch_vertically_linear_blending', 'subtract_images', 'deskew_x', 'deskew_y', 'range', 'reduce_stack', 'rigid_transform', 'rotate', 'scale', 'sub_stack', 'translate', 'arg_maximum_x_projection', 'arg_maximum_y_projection', 'arg_maximum_z_projection', 'arg_minimum_x_projection', 'arg_minimum_y_projection', 'arg_minimum_z_projection', 'maximum_z_projection', 'mean_z_projection', 'minimum_z_projection', 'standard_deviation_z_projection', 'sum_z_projection', 'x_position_of_maximum_x_projection', 'x_position_of_minimum_x_projection', 'y_position_of_maximum_y_projection', 'y_position_of_minimum_y_projection', 'z_position_of_maximum_z_projection', 'z_position_of_minimum_z_projection', 'detect_label_edges', 'detect_maxima_box', 'detect_minima_box', 'equal_constant', 'greater_constant', 'greater_or_equal_constant', 'label_to_mask', 'not_equal_constant', 'smaller_constant', 'smaller_or_equal_constant', 'threshold', 'threshold_otsu', 'connected_components_labeling_box', 'connected_components_labeling_diamond', 'eroded_otsu_labeling', 'gauss_otsu_labeling', 'label', 'label_spots', 'voronoi_labeling', 'voronoi_otsu_labeling', 'binary_edge_detection', 'binary_not', 'close_index_gaps_in_label_map', 'closing_labels', 'combine_labels', 'detect_label_edges', 'dilate_labels', 'erode_connected_labels', 'erode_labels', 'exclude_labels_on_edges', 'exclude_labels_out_of_size_range', 'exclude_labels_outside_size_range', 'exclude_large_labels', 'exclude_small_labels', 'extend_labeling_via_voronoi', 'extend_labels_with_maximum_radius', 'logical_not', 'merge_labels_with_border_intensity_within_range', 'merge_touching_labels', 'mode_box', 'mode_sphere', 'opening_labels', 'reduce_labels_to_centroids', 'reduce_labels_to_label_edges', 'relabel_sequential', 'smooth_labels', 'subtract_labels', 'binary_and', 'binary_intersection', 'binary_or', 'binary_subtract', 'binary_union', 'binary_xor', 'combine_labels', 'logical_and', 'logical_or', 'logical_xor', 'subtract_labels', 'average_distance_of_n_closest_neighbors_map', 'average_distance_of_n_nearest_neighbors_map', 'average_distance_to_n_nearest_other_labels_map', 'extension_ratio_map', 'label_maximum_extension_map', 'label_maximum_extension_ratio_map', 'label_mean_extension_map', 'label_pixel_count_map', 'maximum_extension_map', 'mean_extension_map', 'pixel_count_map', 'proximal_neighbor_count_map', 'touch_portion_within_range_neighbor_count_map', 'touching_neighbor_count_map', 'label_maximum_intensity_map', 'label_mean_intensity_map', 'label_minimum_intensity_map', 'label_standard_deviation_intensity_map', 'maximum_intensity_map', 'mean_intensity_map', 'minimum_intensity_map', 'standard_deviation_intensity_map', 'label_nonzero_pixel_count_map', 'label_nonzero_pixel_count_ratio_map', 'label_overlap_count_map', 'proximal_other_labels_count_map', 'maximum_of_distal_neighbors_map', 'maximum_of_n_most_touching_neighbors_map', 'maximum_of_n_nearest_neighbors_map', 'maximum_of_proximal_neighbors_map', 'maximum_of_touch_portion_within_range_neighbors_map', 'maximum_of_touching_neighbors_map', 'mean_of_distal_neighbors_map', 'mean_of_n_most_touching_neighbors_map', 'mean_of_n_nearest_neighbors_map', 'mean_of_proximal_neighbors_map', 'mean_of_touch_portion_within_range_neighbors_map', 'mean_of_touching_neighbors_map', 'minimum_of_distal_neighbors_map', 'minimum_of_n_most_touching_neighbors_map', 'minimum_of_n_nearest_neighbors_map', 'minimum_of_proximal_neighbors_map', 'minimum_of_touch_portion_within_range_neighbors_map', 'minimum_of_touching_neighbors_map', 'mode_of_distal_neighbors_map', 'mode_of_n_most_touching_neighbors_map', 'mode_of_n_nearest_neighbors_map', 'mode_of_proximal_neighbors_map', 'mode_of_touch_portion_within_range_neighbors_map', 'mode_of_touching_neighbors_map', 'standard_deviation_of_distal_neighbors_map', 'standard_deviation_of_n_most_touching_neighbors_map', 'standard_deviation_of_n_nearest_neighbors_map', 'standard_deviation_of_proximal_neighbors_map', 'standard_deviation_of_touch_portion_within_range_neighbors_map', 'standard_deviation_of_touching_neighbors_map', 'binary_and', 'binary_intersection', 'binary_or', 'binary_subtract', 'binary_union', 'binary_xor', 'exclude_labels_with_average_values_out_of_range', 'exclude_labels_with_average_values_within_range', 'exclude_labels_with_map_values_equal_to_constant', 'exclude_labels_with_map_values_not_equal_to_constant', 'exclude_labels_with_map_values_out_of_range', 'exclude_labels_with_map_values_within_range', 'logical_and', 'logical_or', 'logical_xor', 'merge_annotated_touching_labels', 'draw_distance_mesh_between_n_nearest_labels', 'draw_distance_mesh_between_proximal_labels', 'draw_distance_mesh_between_touching_labels', 'draw_mesh_between_n_closest_labels', 'draw_mesh_between_proximal_labels', 'draw_mesh_between_touching_labels', 'draw_touch_portion_mesh_between_touching_labels', 'draw_touch_portion_ratio_mesh_between_touching_labels']\n"
     ]
    }
   ],
   "source": [
    "viewer = napari.Viewer();"
   ]
  },
  {
   "cell_type": "code",
   "execution_count": 38,
   "metadata": {},
   "outputs": [],
   "source": [
    "viewer.add_image(image, channel_axis=1,\n",
    "                 name=[\"membrane\", \"nuclei\"],\n",
    "                colormap=[\"green\", \"magenta\"]);\n",
    "\n",
    "\n",
    "#viewer.add_labels(mask);"
   ]
  },
  {
   "cell_type": "code",
   "execution_count": 9,
   "metadata": {},
   "outputs": [],
   "source": [
    "mask = imread(\"H:/PROJECTS-03/Feyza/240925-NcadGFPxH2Bch-HIGHRES/20240925_151619_20240925_NcadxH2B_05z_timelapse/cropped-mastodon-roi/cell_5_binary.tif\")\n",
    "\n",
    "viewer.add_labels(mask);"
   ]
  },
  {
   "cell_type": "code",
   "execution_count": 14,
   "metadata": {},
   "outputs": [],
   "source": [
    "#viewer.layers['image'].contrast_limits = (2_000, 60_000)\n",
    "#viewer.layers['image'].colormap = 'magma'\n",
    "#viewer.layers['image'].scale = [0.5, 0.347,0.347]\n",
    "\n"
   ]
  },
  {
   "cell_type": "markdown",
   "metadata": {},
   "source": [
    "### Animation"
   ]
  },
  {
   "cell_type": "code",
   "execution_count": 42,
   "metadata": {},
   "outputs": [
    {
     "name": "stdout",
     "output_type": "stream",
     "text": [
      "Rendering frames...\n"
     ]
    },
    {
     "name": "stderr",
     "output_type": "stream",
     "text": [
      "  0%|          | 0/91 [00:00<?, ?it/s]IMAGEIO FFMPEG_WRITER WARNING: input image is not divisible by macro_block_size=16, resizing from (1046, 747) to (1056, 752) to ensure video compatibility with most codecs and players. To prevent resizing, make your input image divisible by the macro_block_size or set the macro_block_size to 1 (risking incompatibility).\n",
      "100%|██████████| 91/91 [00:09<00:00, 10.07it/s]\n"
     ]
    }
   ],
   "source": [
    "\n",
    "# Perform a 3D scan by iterating through each 2D frame\n",
    "animation = Animation(viewer)\n",
    "viewer.update_console({\"animation\": animation})\n",
    "\n",
    "viewer.dims.ndisplay = 2\n",
    "viewer.camera.angles = (0.0, 0.0, 90.0)\n",
    "\n",
    "for frame in range(10, int(240), 5):  # Step by 10 to capture every 10th frame\n",
    "    viewer.dims.set_point(0, frame)  # Show the 2D frame at the current index\n",
    "    animation.capture_keyframe(steps=2)  # Capture each frame as a keyframe\n",
    "\n",
    "animation.animate(\"Ncad-zstack.mp4\", canvas_only=True)"
   ]
  },
  {
   "cell_type": "code",
   "execution_count": 43,
   "metadata": {},
   "outputs": [
    {
     "name": "stdout",
     "output_type": "stream",
     "text": [
      "Rendering frames...\n"
     ]
    },
    {
     "name": "stderr",
     "output_type": "stream",
     "text": [
      "  0%|          | 0/136 [00:00<?, ?it/s]IMAGEIO FFMPEG_WRITER WARNING: input image is not divisible by macro_block_size=16, resizing from (1046, 747) to (1056, 752) to ensure video compatibility with most codecs and players. To prevent resizing, make your input image divisible by the macro_block_size or set the macro_block_size to 1 (risking incompatibility).\n",
      "100%|██████████| 136/136 [00:09<00:00, 13.94it/s]\n"
     ]
    }
   ],
   "source": [
    "# Tilt the image with the mask in 3D\n",
    "animation = Animation(viewer)\n",
    "viewer.update_console({\"animation\": animation})\n",
    "\n",
    "\n",
    "viewer.dims.ndisplay = 3\n",
    "viewer.camera.angles = (0.0, 0.0, 90.0)\n",
    "animation.capture_keyframe()\n",
    "viewer.add_labels(mask);\n",
    "viewer.camera.angles = (-7.0, 15.7, 62.4)\n",
    "animation.capture_keyframe(steps=60)\n",
    "viewer.camera.angles = (2.0, -24.4, -36.7)\n",
    "animation.capture_keyframe(steps=60)\n",
    "viewer.reset_view()\n",
    "viewer.camera.angles = (0.0, 0.0, 90.0)\n",
    "animation.capture_keyframe()\n",
    "animation.animate(\"3D-mask.mp4\", canvas_only=True)"
   ]
  },
  {
   "cell_type": "code",
   "execution_count": null,
   "metadata": {},
   "outputs": [],
   "source": []
  }
 ],
 "metadata": {
  "kernelspec": {
   "display_name": "Python 3",
   "language": "python",
   "name": "python3"
  },
  "language_info": {
   "codemirror_mode": {
    "name": "ipython",
    "version": 3
   },
   "file_extension": ".py",
   "mimetype": "text/x-python",
   "name": "python",
   "nbconvert_exporter": "python",
   "pygments_lexer": "ipython3",
   "version": "3.10.15"
  }
 },
 "nbformat": 4,
 "nbformat_minor": 2
}
